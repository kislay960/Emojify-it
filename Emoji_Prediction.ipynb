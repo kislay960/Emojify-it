{
  "nbformat": 4,
  "nbformat_minor": 0,
  "metadata": {
    "colab": {
      "name": "Emoji Prediction.ipynb",
      "provenance": [],
      "collapsed_sections": [],
      "mount_file_id": "1bSaSdXMKSWb1qixHm6cn_6p3Ff7WVvZ7",
      "authorship_tag": "ABX9TyN3pgBgMNF/jyX6F4OO/ZOW",
      "include_colab_link": true
    },
    "kernelspec": {
      "name": "python3",
      "display_name": "Python 3"
    }
  },
  "cells": [
    {
      "cell_type": "markdown",
      "metadata": {
        "id": "view-in-github",
        "colab_type": "text"
      },
      "source": [
        "<a href=\"https://colab.research.google.com/github/kislay960/Emojify-it/blob/main/Emoji_Prediction.ipynb\" target=\"_parent\"><img src=\"https://colab.research.google.com/assets/colab-badge.svg\" alt=\"Open In Colab\"/></a>"
      ]
    },
    {
      "cell_type": "code",
      "metadata": {
        "colab": {
          "base_uri": "https://localhost:8080/"
        },
        "id": "5NuyqnzjH54t",
        "outputId": "5a323294-cc5a-4435-821a-715e856d9307"
      },
      "source": [
        "#install the emoji package to display different emojis\n",
        "!pip install emoji"
      ],
      "execution_count": null,
      "outputs": [
        {
          "output_type": "stream",
          "text": [
            "Requirement already satisfied: emoji in /usr/local/lib/python3.6/dist-packages (0.6.0)\n"
          ],
          "name": "stdout"
        }
      ]
    },
    {
      "cell_type": "code",
      "metadata": {
        "id": "saDX5xDVKG7J"
      },
      "source": [
        "import emoji"
      ],
      "execution_count": null,
      "outputs": []
    },
    {
      "cell_type": "code",
      "metadata": {
        "id": "kqE1v4HGKPF4"
      },
      "source": [
        "#creating a dictionary for the emojis we will use\n",
        "emoji_dictionary = {\"0\": \"\\u2764\\uFE0F\",    # :heart: prints a black instead of red heart depending on the font\n",
        "                    \"1\": \":baseball:\",\n",
        "                    \"2\": \":beaming_face_with_smiling_eyes:\",\n",
        "                    \"3\": \":downcast_face_with_sweat:\",\n",
        "                    \"4\": \":fork_and_knife:\",\n",
        "                   }"
      ],
      "execution_count": null,
      "outputs": []
    },
    {
      "cell_type": "code",
      "metadata": {
        "colab": {
          "base_uri": "https://localhost:8080/"
        },
        "id": "toGeZTIAMl-J",
        "outputId": "2cae8eb3-4b4e-4cb4-f5b5-b6d900d54e12"
      },
      "source": [
        "for e in emoji_dictionary.values():\n",
        "    print(emoji.emojize(e))"
      ],
      "execution_count": null,
      "outputs": [
        {
          "output_type": "stream",
          "text": [
            "❤️\n",
            "⚾\n",
            "😁\n",
            "😓\n",
            "🍴\n"
          ],
          "name": "stdout"
        }
      ]
    },
    {
      "cell_type": "code",
      "metadata": {
        "id": "ktin1P26Mowu"
      },
      "source": [
        "#importing libraries required\n",
        "import numpy as np\n",
        "import pandas as pd\n",
        "\n",
        "from keras.models import Sequential\n",
        "from keras.layers import Dense, Input, Dropout, SimpleRNN,LSTM, Activation\n",
        "from keras.utils import np_utils\n",
        "\n",
        "import matplotlib.pyplot as plt"
      ],
      "execution_count": null,
      "outputs": []
    },
    {
      "cell_type": "code",
      "metadata": {
        "id": "bQDpF26BXdvQ"
      },
      "source": [
        "#loading the dataset\n",
        "train = pd.read_csv('https://raw.githubusercontent.com/kislay960/Data-Science-Practice/main/train_emoji.csv',header=None)\n",
        "test = pd.read_csv('https://raw.githubusercontent.com/kislay960/Data-Science-Practice/main/test_emoji.csv',header=None)"
      ],
      "execution_count": null,
      "outputs": []
    },
    {
      "cell_type": "code",
      "metadata": {
        "colab": {
          "base_uri": "https://localhost:8080/",
          "height": 204
        },
        "id": "v4KH8A3aYKOs",
        "outputId": "fad2aeda-40d1-459e-a1ed-16327d455a8c"
      },
      "source": [
        "train.head()"
      ],
      "execution_count": null,
      "outputs": [
        {
          "output_type": "execute_result",
          "data": {
            "text/html": [
              "<div>\n",
              "<style scoped>\n",
              "    .dataframe tbody tr th:only-of-type {\n",
              "        vertical-align: middle;\n",
              "    }\n",
              "\n",
              "    .dataframe tbody tr th {\n",
              "        vertical-align: top;\n",
              "    }\n",
              "\n",
              "    .dataframe thead th {\n",
              "        text-align: right;\n",
              "    }\n",
              "</style>\n",
              "<table border=\"1\" class=\"dataframe\">\n",
              "  <thead>\n",
              "    <tr style=\"text-align: right;\">\n",
              "      <th></th>\n",
              "      <th>0</th>\n",
              "      <th>1</th>\n",
              "      <th>2</th>\n",
              "      <th>3</th>\n",
              "    </tr>\n",
              "  </thead>\n",
              "  <tbody>\n",
              "    <tr>\n",
              "      <th>0</th>\n",
              "      <td>never talk to me again</td>\n",
              "      <td>3</td>\n",
              "      <td>NaN</td>\n",
              "      <td>NaN</td>\n",
              "    </tr>\n",
              "    <tr>\n",
              "      <th>1</th>\n",
              "      <td>I am proud of your achievements</td>\n",
              "      <td>2</td>\n",
              "      <td>NaN</td>\n",
              "      <td>NaN</td>\n",
              "    </tr>\n",
              "    <tr>\n",
              "      <th>2</th>\n",
              "      <td>It is the worst day in my life</td>\n",
              "      <td>3</td>\n",
              "      <td>NaN</td>\n",
              "      <td>NaN</td>\n",
              "    </tr>\n",
              "    <tr>\n",
              "      <th>3</th>\n",
              "      <td>Miss you so much</td>\n",
              "      <td>0</td>\n",
              "      <td>NaN</td>\n",
              "      <td>[0]</td>\n",
              "    </tr>\n",
              "    <tr>\n",
              "      <th>4</th>\n",
              "      <td>food is life</td>\n",
              "      <td>4</td>\n",
              "      <td>NaN</td>\n",
              "      <td>NaN</td>\n",
              "    </tr>\n",
              "  </tbody>\n",
              "</table>\n",
              "</div>"
            ],
            "text/plain": [
              "                                 0  1   2     3\n",
              "0           never talk to me again  3 NaN   NaN\n",
              "1  I am proud of your achievements  2 NaN   NaN\n",
              "2   It is the worst day in my life  3 NaN   NaN\n",
              "3                 Miss you so much  0 NaN   [0]\n",
              "4                     food is life  4 NaN   NaN"
            ]
          },
          "metadata": {
            "tags": []
          },
          "execution_count": 48
        }
      ]
    },
    {
      "cell_type": "code",
      "metadata": {
        "colab": {
          "base_uri": "https://localhost:8080/"
        },
        "id": "3gkkZbnkXlpQ",
        "outputId": "cb7a9699-d4a1-40c3-ddd9-bed95f9498ea"
      },
      "source": [
        "data = train.values\n",
        "for i in range(10):\n",
        "    print(data[i][0],emoji.emojize(emoji_dictionary[str(data[i][1])]))"
      ],
      "execution_count": null,
      "outputs": [
        {
          "output_type": "stream",
          "text": [
            "never talk to me again 😓\n",
            "I am proud of your achievements 😁\n",
            "It is the worst day in my life 😓\n",
            "Miss you so much ❤️\n",
            "food is life 🍴\n",
            "I love you mum ❤️\n",
            "Stop saying bullshit 😓\n",
            "congratulations on your acceptance 😁\n",
            "The assignment is too long  😓\n",
            "I want to go play ⚾\n"
          ],
          "name": "stdout"
        }
      ]
    },
    {
      "cell_type": "code",
      "metadata": {
        "id": "Iy4B1VM7zEvf"
      },
      "source": [
        "X_train = train[0]\n",
        "Y_train = train[1]\n",
        "\n",
        "X_test = test[0]\n",
        "Y_test = test[1]"
      ],
      "execution_count": null,
      "outputs": []
    },
    {
      "cell_type": "code",
      "metadata": {
        "colab": {
          "base_uri": "https://localhost:8080/"
        },
        "id": "e5o9no_pzZJP",
        "outputId": "b3fc1e5b-9635-4852-ed10-06ab5b737b04"
      },
      "source": [
        "print(X_train.shape)\n",
        "print(X_test.shape)\n",
        "print(Y_train.shape)\n",
        "print(Y_test.shape)"
      ],
      "execution_count": null,
      "outputs": [
        {
          "output_type": "stream",
          "text": [
            "(132,)\n",
            "(56,)\n",
            "(132,)\n",
            "(56,)\n"
          ],
          "name": "stdout"
        }
      ]
    },
    {
      "cell_type": "code",
      "metadata": {
        "id": "4oCXy3Vfzjwr"
      },
      "source": [
        "# Converting labels into categorical form\n",
        "Y_train = np_utils.to_categorical(Y_train)"
      ],
      "execution_count": null,
      "outputs": []
    },
    {
      "cell_type": "code",
      "metadata": {
        "id": "fP8ILvPHzpXq"
      },
      "source": [
        "# Creating  embeddings dictionary with key = word and value = list of words in glove vector\n",
        "embeddings_index = {}\n",
        "\n",
        "f = open('/content/drive/MyDrive/glove.6B.50d.txt')\n",
        "for line in f:\n",
        "    values = line.split()\n",
        "    word = values[0]\n",
        "    coefs = np.asarray(values[1:], dtype='float32')\n",
        "    embeddings_index[word] = coefs\n",
        "f.close()"
      ],
      "execution_count": null,
      "outputs": []
    },
    {
      "cell_type": "code",
      "metadata": {
        "colab": {
          "base_uri": "https://localhost:8080/",
          "height": 35
        },
        "id": "n-2sSPDcGBBY",
        "outputId": "ab77c890-b0d2-4b62-f806-011b915ef747"
      },
      "source": [
        "X_train[1]"
      ],
      "execution_count": null,
      "outputs": [
        {
          "output_type": "execute_result",
          "data": {
            "application/vnd.google.colaboratory.intrinsic+json": {
              "type": "string"
            },
            "text/plain": [
              "'I am proud of your achievements'"
            ]
          },
          "metadata": {
            "tags": []
          },
          "execution_count": 54
        }
      ]
    },
    {
      "cell_type": "code",
      "metadata": {
        "id": "zH5dl6vg0Gsj"
      },
      "source": [
        "# Filling the embedding matrix\n",
        "def getOutputEmbeddings(X):\n",
        "    \n",
        "    embedding_matrix_output = np.zeros((X.shape[0],10,50))\n",
        "    for ix in range(X.shape[0]):\n",
        "        X[ix] = X[ix].split()\n",
        "        for jx in range(len(X[ix])):\n",
        "            embedding_matrix_output[ix][jx] = embeddings_index[X[ix][jx].lower()]\n",
        "            \n",
        "    return embedding_matrix_output"
      ],
      "execution_count": null,
      "outputs": []
    },
    {
      "cell_type": "code",
      "metadata": {
        "id": "iwwbAOkvGjKE",
        "colab": {
          "base_uri": "https://localhost:8080/",
          "height": 35
        },
        "outputId": "9df5366c-8fd5-4d8f-b85d-aae258ecdaa7"
      },
      "source": [
        "X_train[1]"
      ],
      "execution_count": null,
      "outputs": [
        {
          "output_type": "execute_result",
          "data": {
            "application/vnd.google.colaboratory.intrinsic+json": {
              "type": "string"
            },
            "text/plain": [
              "'I am proud of your achievements'"
            ]
          },
          "metadata": {
            "tags": []
          },
          "execution_count": 59
        }
      ]
    },
    {
      "cell_type": "code",
      "metadata": {
        "colab": {
          "base_uri": "https://localhost:8080/",
          "height": 299
        },
        "id": "GfQ-SvwRFd08",
        "outputId": "917c227a-4489-4f67-a5fa-097edd2f6a6d"
      },
      "source": [
        "embedding_matrix_train = getOutputEmbeddings(X_train)\n",
        "embedding_matrix_test = getOutputEmbeddings(X_test)"
      ],
      "execution_count": null,
      "outputs": [
        {
          "output_type": "error",
          "ename": "AttributeError",
          "evalue": "ignored",
          "traceback": [
            "\u001b[0;31m---------------------------------------------------------------------------\u001b[0m",
            "\u001b[0;31mAttributeError\u001b[0m                            Traceback (most recent call last)",
            "\u001b[0;32m<ipython-input-58-45df851b9313>\u001b[0m in \u001b[0;36m<module>\u001b[0;34m()\u001b[0m\n\u001b[0;32m----> 1\u001b[0;31m \u001b[0membedding_matrix_train\u001b[0m \u001b[0;34m=\u001b[0m \u001b[0mgetOutputEmbeddings\u001b[0m\u001b[0;34m(\u001b[0m\u001b[0mX_train\u001b[0m\u001b[0;34m)\u001b[0m\u001b[0;34m\u001b[0m\u001b[0;34m\u001b[0m\u001b[0m\n\u001b[0m\u001b[1;32m      2\u001b[0m \u001b[0membedding_matrix_test\u001b[0m \u001b[0;34m=\u001b[0m \u001b[0mgetOutputEmbeddings\u001b[0m\u001b[0;34m(\u001b[0m\u001b[0mX_test\u001b[0m\u001b[0;34m)\u001b[0m\u001b[0;34m\u001b[0m\u001b[0;34m\u001b[0m\u001b[0m\n",
            "\u001b[0;32m<ipython-input-57-6d6e25034cb6>\u001b[0m in \u001b[0;36mgetOutputEmbeddings\u001b[0;34m(X)\u001b[0m\n\u001b[1;32m      4\u001b[0m     \u001b[0membedding_matrix_output\u001b[0m \u001b[0;34m=\u001b[0m \u001b[0mnp\u001b[0m\u001b[0;34m.\u001b[0m\u001b[0mzeros\u001b[0m\u001b[0;34m(\u001b[0m\u001b[0;34m(\u001b[0m\u001b[0mX\u001b[0m\u001b[0;34m.\u001b[0m\u001b[0mshape\u001b[0m\u001b[0;34m[\u001b[0m\u001b[0;36m0\u001b[0m\u001b[0;34m]\u001b[0m\u001b[0;34m,\u001b[0m\u001b[0;36m10\u001b[0m\u001b[0;34m,\u001b[0m\u001b[0;36m50\u001b[0m\u001b[0;34m)\u001b[0m\u001b[0;34m)\u001b[0m\u001b[0;34m\u001b[0m\u001b[0;34m\u001b[0m\u001b[0m\n\u001b[1;32m      5\u001b[0m     \u001b[0;32mfor\u001b[0m \u001b[0mix\u001b[0m \u001b[0;32min\u001b[0m \u001b[0mrange\u001b[0m\u001b[0;34m(\u001b[0m\u001b[0mX\u001b[0m\u001b[0;34m.\u001b[0m\u001b[0mshape\u001b[0m\u001b[0;34m[\u001b[0m\u001b[0;36m0\u001b[0m\u001b[0;34m]\u001b[0m\u001b[0;34m)\u001b[0m\u001b[0;34m:\u001b[0m\u001b[0;34m\u001b[0m\u001b[0;34m\u001b[0m\u001b[0m\n\u001b[0;32m----> 6\u001b[0;31m         \u001b[0mX\u001b[0m\u001b[0;34m[\u001b[0m\u001b[0mix\u001b[0m\u001b[0;34m]\u001b[0m \u001b[0;34m=\u001b[0m \u001b[0mX\u001b[0m\u001b[0;34m[\u001b[0m\u001b[0mix\u001b[0m\u001b[0;34m]\u001b[0m\u001b[0;34m.\u001b[0m\u001b[0msplit\u001b[0m\u001b[0;34m(\u001b[0m\u001b[0;34m)\u001b[0m\u001b[0;34m\u001b[0m\u001b[0;34m\u001b[0m\u001b[0m\n\u001b[0m\u001b[1;32m      7\u001b[0m         \u001b[0;32mfor\u001b[0m \u001b[0mjx\u001b[0m \u001b[0;32min\u001b[0m \u001b[0mrange\u001b[0m\u001b[0;34m(\u001b[0m\u001b[0mlen\u001b[0m\u001b[0;34m(\u001b[0m\u001b[0mX\u001b[0m\u001b[0;34m[\u001b[0m\u001b[0mix\u001b[0m\u001b[0;34m]\u001b[0m\u001b[0;34m)\u001b[0m\u001b[0;34m)\u001b[0m\u001b[0;34m:\u001b[0m\u001b[0;34m\u001b[0m\u001b[0;34m\u001b[0m\u001b[0m\n\u001b[1;32m      8\u001b[0m             \u001b[0membedding_matrix_output\u001b[0m\u001b[0;34m[\u001b[0m\u001b[0mix\u001b[0m\u001b[0;34m]\u001b[0m\u001b[0;34m[\u001b[0m\u001b[0mjx\u001b[0m\u001b[0;34m]\u001b[0m \u001b[0;34m=\u001b[0m \u001b[0membeddings_index\u001b[0m\u001b[0;34m[\u001b[0m\u001b[0mX\u001b[0m\u001b[0;34m[\u001b[0m\u001b[0mix\u001b[0m\u001b[0;34m]\u001b[0m\u001b[0;34m[\u001b[0m\u001b[0mjx\u001b[0m\u001b[0;34m]\u001b[0m\u001b[0;34m.\u001b[0m\u001b[0mlower\u001b[0m\u001b[0;34m(\u001b[0m\u001b[0;34m)\u001b[0m\u001b[0;34m]\u001b[0m\u001b[0;34m\u001b[0m\u001b[0;34m\u001b[0m\u001b[0m\n",
            "\u001b[0;31mAttributeError\u001b[0m: 'list' object has no attribute 'split'"
          ]
        }
      ]
    },
    {
      "cell_type": "code",
      "metadata": {
        "colab": {
          "base_uri": "https://localhost:8080/"
        },
        "id": "bH5i9Aqe0QN4",
        "outputId": "64c7e3be-5dd2-4f6c-b5e1-f666dd601a88"
      },
      "source": [
        "print (embedding_matrix_train.shape, embedding_matrix_test.shape)"
      ],
      "execution_count": null,
      "outputs": [
        {
          "output_type": "stream",
          "text": [
            "(132, 10, 50) (56, 10, 50)\n"
          ],
          "name": "stdout"
        }
      ]
    },
    {
      "cell_type": "code",
      "metadata": {
        "colab": {
          "base_uri": "https://localhost:8080/"
        },
        "id": "TEcJuI0m0SZg",
        "outputId": "a43cd36e-b97d-40fd-8ceb-20f049d69856"
      },
      "source": [
        "# A simple RNN and LSTM network to classify the emoji class from an input Sentence\n",
        "\n",
        "model = Sequential()\n",
        "model.add(SimpleRNN(64, input_shape=(10,50), return_sequences=True))\n",
        "model.add(Dropout(0.5))\n",
        "model.add(LSTM(64,input_shape=(10,50)))\n",
        "model.add(Dropout(0.5))\n",
        "model.add(Dense(5))\n",
        "model.add(Activation('softmax'))\n",
        "\n",
        "model.summary()"
      ],
      "execution_count": null,
      "outputs": [
        {
          "output_type": "stream",
          "text": [
            "Model: \"sequential\"\n",
            "_________________________________________________________________\n",
            "Layer (type)                 Output Shape              Param #   \n",
            "=================================================================\n",
            "simple_rnn (SimpleRNN)       (None, 10, 64)            7360      \n",
            "_________________________________________________________________\n",
            "dropout (Dropout)            (None, 10, 64)            0         \n",
            "_________________________________________________________________\n",
            "lstm (LSTM)                  (None, 64)                33024     \n",
            "_________________________________________________________________\n",
            "dropout_1 (Dropout)          (None, 64)                0         \n",
            "_________________________________________________________________\n",
            "dense (Dense)                (None, 5)                 325       \n",
            "_________________________________________________________________\n",
            "activation (Activation)      (None, 5)                 0         \n",
            "=================================================================\n",
            "Total params: 40,709\n",
            "Trainable params: 40,709\n",
            "Non-trainable params: 0\n",
            "_________________________________________________________________\n"
          ],
          "name": "stdout"
        }
      ]
    },
    {
      "cell_type": "code",
      "metadata": {
        "id": "zN7x3rwp0VKX"
      },
      "source": [
        "# Setting Loss and Optimiser\n",
        "model.compile(loss='categorical_crossentropy', optimizer='adam', metrics=['accuracy'])"
      ],
      "execution_count": null,
      "outputs": []
    },
    {
      "cell_type": "code",
      "metadata": {
        "colab": {
          "base_uri": "https://localhost:8080/"
        },
        "id": "JXXGQfXI0Yc4",
        "outputId": "b9974a5a-1b5e-4402-e5eb-069044b01611"
      },
      "source": [
        "# Training the model and Setting hyperparameters\n",
        "hist = model.fit(embedding_matrix_train,Y_train,epochs=100, batch_size=64,shuffle=True)"
      ],
      "execution_count": null,
      "outputs": [
        {
          "output_type": "stream",
          "text": [
            "Epoch 1/100\n",
            "3/3 [==============================] - 0s 9ms/step - loss: 1.6332 - accuracy: 0.2045\n",
            "Epoch 2/100\n",
            "3/3 [==============================] - 0s 8ms/step - loss: 1.5920 - accuracy: 0.2197\n",
            "Epoch 3/100\n",
            "3/3 [==============================] - 0s 8ms/step - loss: 1.5017 - accuracy: 0.3712\n",
            "Epoch 4/100\n",
            "3/3 [==============================] - 0s 8ms/step - loss: 1.4870 - accuracy: 0.3106\n",
            "Epoch 5/100\n",
            "3/3 [==============================] - 0s 10ms/step - loss: 1.4681 - accuracy: 0.4015\n",
            "Epoch 6/100\n",
            "3/3 [==============================] - 0s 8ms/step - loss: 1.4277 - accuracy: 0.3712\n",
            "Epoch 7/100\n",
            "3/3 [==============================] - 0s 8ms/step - loss: 1.4152 - accuracy: 0.4242\n",
            "Epoch 8/100\n",
            "3/3 [==============================] - 0s 8ms/step - loss: 1.3459 - accuracy: 0.4621\n",
            "Epoch 9/100\n",
            "3/3 [==============================] - 0s 8ms/step - loss: 1.2872 - accuracy: 0.5455\n",
            "Epoch 10/100\n",
            "3/3 [==============================] - 0s 8ms/step - loss: 1.2681 - accuracy: 0.5606\n",
            "Epoch 11/100\n",
            "3/3 [==============================] - 0s 8ms/step - loss: 1.2485 - accuracy: 0.5985\n",
            "Epoch 12/100\n",
            "3/3 [==============================] - 0s 8ms/step - loss: 1.1826 - accuracy: 0.5379\n",
            "Epoch 13/100\n",
            "3/3 [==============================] - 0s 7ms/step - loss: 1.1685 - accuracy: 0.5606\n",
            "Epoch 14/100\n",
            "3/3 [==============================] - 0s 7ms/step - loss: 1.0771 - accuracy: 0.6364\n",
            "Epoch 15/100\n",
            "3/3 [==============================] - 0s 8ms/step - loss: 1.0280 - accuracy: 0.6742\n",
            "Epoch 16/100\n",
            "3/3 [==============================] - 0s 7ms/step - loss: 1.0228 - accuracy: 0.5758\n",
            "Epoch 17/100\n",
            "3/3 [==============================] - 0s 7ms/step - loss: 0.9518 - accuracy: 0.6364\n",
            "Epoch 18/100\n",
            "3/3 [==============================] - 0s 8ms/step - loss: 0.9535 - accuracy: 0.6288\n",
            "Epoch 19/100\n",
            "3/3 [==============================] - 0s 8ms/step - loss: 0.9083 - accuracy: 0.6515\n",
            "Epoch 20/100\n",
            "3/3 [==============================] - 0s 7ms/step - loss: 0.8473 - accuracy: 0.7045\n",
            "Epoch 21/100\n",
            "3/3 [==============================] - 0s 8ms/step - loss: 0.8035 - accuracy: 0.7045\n",
            "Epoch 22/100\n",
            "3/3 [==============================] - 0s 10ms/step - loss: 0.7899 - accuracy: 0.7273\n",
            "Epoch 23/100\n",
            "3/3 [==============================] - 0s 8ms/step - loss: 0.6937 - accuracy: 0.7652\n",
            "Epoch 24/100\n",
            "3/3 [==============================] - 0s 8ms/step - loss: 0.6997 - accuracy: 0.7803\n",
            "Epoch 25/100\n",
            "3/3 [==============================] - 0s 8ms/step - loss: 0.6735 - accuracy: 0.7652\n",
            "Epoch 26/100\n",
            "3/3 [==============================] - 0s 8ms/step - loss: 0.6686 - accuracy: 0.7576\n",
            "Epoch 27/100\n",
            "3/3 [==============================] - 0s 8ms/step - loss: 0.6616 - accuracy: 0.7576\n",
            "Epoch 28/100\n",
            "3/3 [==============================] - 0s 8ms/step - loss: 0.6409 - accuracy: 0.8030\n",
            "Epoch 29/100\n",
            "3/3 [==============================] - 0s 10ms/step - loss: 0.6310 - accuracy: 0.7803\n",
            "Epoch 30/100\n",
            "3/3 [==============================] - 0s 8ms/step - loss: 0.5956 - accuracy: 0.8030\n",
            "Epoch 31/100\n",
            "3/3 [==============================] - 0s 8ms/step - loss: 0.5831 - accuracy: 0.8409\n",
            "Epoch 32/100\n",
            "3/3 [==============================] - 0s 9ms/step - loss: 0.4692 - accuracy: 0.8788\n",
            "Epoch 33/100\n",
            "3/3 [==============================] - 0s 7ms/step - loss: 0.6054 - accuracy: 0.8106\n",
            "Epoch 34/100\n",
            "3/3 [==============================] - 0s 7ms/step - loss: 0.6636 - accuracy: 0.7652\n",
            "Epoch 35/100\n",
            "3/3 [==============================] - 0s 7ms/step - loss: 0.4659 - accuracy: 0.8636\n",
            "Epoch 36/100\n",
            "3/3 [==============================] - 0s 7ms/step - loss: 0.5009 - accuracy: 0.8333\n",
            "Epoch 37/100\n",
            "3/3 [==============================] - 0s 7ms/step - loss: 0.5091 - accuracy: 0.8258\n",
            "Epoch 38/100\n",
            "3/3 [==============================] - 0s 7ms/step - loss: 0.4933 - accuracy: 0.8712\n",
            "Epoch 39/100\n",
            "3/3 [==============================] - 0s 7ms/step - loss: 0.4604 - accuracy: 0.8561\n",
            "Epoch 40/100\n",
            "3/3 [==============================] - 0s 7ms/step - loss: 0.3653 - accuracy: 0.8788\n",
            "Epoch 41/100\n",
            "3/3 [==============================] - 0s 7ms/step - loss: 0.3978 - accuracy: 0.8788\n",
            "Epoch 42/100\n",
            "3/3 [==============================] - 0s 9ms/step - loss: 0.3987 - accuracy: 0.8712\n",
            "Epoch 43/100\n",
            "3/3 [==============================] - 0s 8ms/step - loss: 0.3702 - accuracy: 0.8864\n",
            "Epoch 44/100\n",
            "3/3 [==============================] - 0s 8ms/step - loss: 0.3889 - accuracy: 0.8788\n",
            "Epoch 45/100\n",
            "3/3 [==============================] - 0s 8ms/step - loss: 0.3625 - accuracy: 0.8788\n",
            "Epoch 46/100\n",
            "3/3 [==============================] - 0s 8ms/step - loss: 0.3682 - accuracy: 0.8712\n",
            "Epoch 47/100\n",
            "3/3 [==============================] - 0s 8ms/step - loss: 0.2960 - accuracy: 0.9242\n",
            "Epoch 48/100\n",
            "3/3 [==============================] - 0s 8ms/step - loss: 0.3163 - accuracy: 0.9015\n",
            "Epoch 49/100\n",
            "3/3 [==============================] - 0s 8ms/step - loss: 0.3479 - accuracy: 0.8864\n",
            "Epoch 50/100\n",
            "3/3 [==============================] - 0s 8ms/step - loss: 0.3060 - accuracy: 0.9167\n",
            "Epoch 51/100\n",
            "3/3 [==============================] - 0s 9ms/step - loss: 0.2844 - accuracy: 0.9167\n",
            "Epoch 52/100\n",
            "3/3 [==============================] - 0s 8ms/step - loss: 0.3090 - accuracy: 0.9318\n",
            "Epoch 53/100\n",
            "3/3 [==============================] - 0s 9ms/step - loss: 0.3170 - accuracy: 0.9167\n",
            "Epoch 54/100\n",
            "3/3 [==============================] - 0s 8ms/step - loss: 0.2862 - accuracy: 0.8939\n",
            "Epoch 55/100\n",
            "3/3 [==============================] - 0s 8ms/step - loss: 0.2554 - accuracy: 0.9242\n",
            "Epoch 56/100\n",
            "3/3 [==============================] - 0s 8ms/step - loss: 0.2195 - accuracy: 0.9621\n",
            "Epoch 57/100\n",
            "3/3 [==============================] - 0s 8ms/step - loss: 0.2713 - accuracy: 0.9242\n",
            "Epoch 58/100\n",
            "3/3 [==============================] - 0s 8ms/step - loss: 0.2525 - accuracy: 0.9091\n",
            "Epoch 59/100\n",
            "3/3 [==============================] - 0s 7ms/step - loss: 0.2473 - accuracy: 0.9394\n",
            "Epoch 60/100\n",
            "3/3 [==============================] - 0s 8ms/step - loss: 0.2301 - accuracy: 0.9242\n",
            "Epoch 61/100\n",
            "3/3 [==============================] - 0s 10ms/step - loss: 0.1931 - accuracy: 0.9470\n",
            "Epoch 62/100\n",
            "3/3 [==============================] - 0s 8ms/step - loss: 0.1898 - accuracy: 0.9470\n",
            "Epoch 63/100\n",
            "3/3 [==============================] - 0s 8ms/step - loss: 0.2022 - accuracy: 0.9470\n",
            "Epoch 64/100\n",
            "3/3 [==============================] - 0s 7ms/step - loss: 0.1513 - accuracy: 0.9773\n",
            "Epoch 65/100\n",
            "3/3 [==============================] - 0s 7ms/step - loss: 0.1626 - accuracy: 0.9545\n",
            "Epoch 66/100\n",
            "3/3 [==============================] - 0s 7ms/step - loss: 0.1489 - accuracy: 0.9545\n",
            "Epoch 67/100\n",
            "3/3 [==============================] - 0s 8ms/step - loss: 0.1521 - accuracy: 0.9621\n",
            "Epoch 68/100\n",
            "3/3 [==============================] - 0s 8ms/step - loss: 0.1534 - accuracy: 0.9394\n",
            "Epoch 69/100\n",
            "3/3 [==============================] - 0s 9ms/step - loss: 0.1265 - accuracy: 0.9697\n",
            "Epoch 70/100\n",
            "3/3 [==============================] - 0s 8ms/step - loss: 0.1781 - accuracy: 0.9621\n",
            "Epoch 71/100\n",
            "3/3 [==============================] - 0s 9ms/step - loss: 0.1927 - accuracy: 0.9394\n",
            "Epoch 72/100\n",
            "3/3 [==============================] - 0s 7ms/step - loss: 0.1723 - accuracy: 0.9470\n",
            "Epoch 73/100\n",
            "3/3 [==============================] - 0s 8ms/step - loss: 0.3487 - accuracy: 0.8864\n",
            "Epoch 74/100\n",
            "3/3 [==============================] - 0s 8ms/step - loss: 0.1673 - accuracy: 0.9545\n",
            "Epoch 75/100\n",
            "3/3 [==============================] - 0s 8ms/step - loss: 0.5823 - accuracy: 0.8030\n",
            "Epoch 76/100\n",
            "3/3 [==============================] - 0s 10ms/step - loss: 0.2618 - accuracy: 0.9242\n",
            "Epoch 77/100\n",
            "3/3 [==============================] - 0s 8ms/step - loss: 0.2346 - accuracy: 0.9091\n",
            "Epoch 78/100\n",
            "3/3 [==============================] - 0s 7ms/step - loss: 0.3883 - accuracy: 0.8561\n",
            "Epoch 79/100\n",
            "3/3 [==============================] - 0s 7ms/step - loss: 0.1509 - accuracy: 0.9621\n",
            "Epoch 80/100\n",
            "3/3 [==============================] - 0s 8ms/step - loss: 0.1910 - accuracy: 0.9394\n",
            "Epoch 81/100\n",
            "3/3 [==============================] - 0s 9ms/step - loss: 0.1663 - accuracy: 0.9697\n",
            "Epoch 82/100\n",
            "3/3 [==============================] - 0s 8ms/step - loss: 0.2208 - accuracy: 0.9394\n",
            "Epoch 83/100\n",
            "3/3 [==============================] - 0s 8ms/step - loss: 0.2136 - accuracy: 0.9470\n",
            "Epoch 84/100\n",
            "3/3 [==============================] - 0s 8ms/step - loss: 0.1313 - accuracy: 0.9621\n",
            "Epoch 85/100\n",
            "3/3 [==============================] - 0s 8ms/step - loss: 0.1206 - accuracy: 0.9470\n",
            "Epoch 86/100\n",
            "3/3 [==============================] - 0s 8ms/step - loss: 0.1514 - accuracy: 0.9394\n",
            "Epoch 87/100\n",
            "3/3 [==============================] - 0s 8ms/step - loss: 0.1207 - accuracy: 0.9545\n",
            "Epoch 88/100\n",
            "3/3 [==============================] - 0s 8ms/step - loss: 0.1220 - accuracy: 0.9394\n",
            "Epoch 89/100\n",
            "3/3 [==============================] - 0s 9ms/step - loss: 0.0884 - accuracy: 0.9773\n",
            "Epoch 90/100\n",
            "3/3 [==============================] - 0s 9ms/step - loss: 0.0956 - accuracy: 0.9848\n",
            "Epoch 91/100\n",
            "3/3 [==============================] - 0s 9ms/step - loss: 0.0622 - accuracy: 0.9924\n",
            "Epoch 92/100\n",
            "3/3 [==============================] - 0s 9ms/step - loss: 0.0639 - accuracy: 0.9924\n",
            "Epoch 93/100\n",
            "3/3 [==============================] - 0s 8ms/step - loss: 0.0567 - accuracy: 0.9924\n",
            "Epoch 94/100\n",
            "3/3 [==============================] - 0s 7ms/step - loss: 0.0788 - accuracy: 0.9848\n",
            "Epoch 95/100\n",
            "3/3 [==============================] - 0s 8ms/step - loss: 0.0551 - accuracy: 1.0000\n",
            "Epoch 96/100\n",
            "3/3 [==============================] - 0s 8ms/step - loss: 0.0618 - accuracy: 0.9924\n",
            "Epoch 97/100\n",
            "3/3 [==============================] - 0s 8ms/step - loss: 0.0584 - accuracy: 0.9924\n",
            "Epoch 98/100\n",
            "3/3 [==============================] - 0s 8ms/step - loss: 0.0585 - accuracy: 0.9773\n",
            "Epoch 99/100\n",
            "3/3 [==============================] - 0s 10ms/step - loss: 0.0532 - accuracy: 0.9848\n",
            "Epoch 100/100\n",
            "3/3 [==============================] - 0s 8ms/step - loss: 0.0746 - accuracy: 0.9848\n"
          ],
          "name": "stdout"
        }
      ]
    },
    {
      "cell_type": "code",
      "metadata": {
        "id": "jRf-AhnI0eCV",
        "colab": {
          "base_uri": "https://localhost:8080/"
        },
        "outputId": "368c41bd-48c7-4030-c8e0-b4c85910e8f9"
      },
      "source": [
        "#predicting values for test data\n",
        "pred = model.predict_classes(embedding_matrix_test)"
      ],
      "execution_count": null,
      "outputs": [
        {
          "output_type": "stream",
          "text": [
            "WARNING:tensorflow:From <ipython-input-19-f842ef1a5de0>:2: Sequential.predict_classes (from tensorflow.python.keras.engine.sequential) is deprecated and will be removed after 2021-01-01.\n",
            "Instructions for updating:\n",
            "Please use instead:* `np.argmax(model.predict(x), axis=-1)`,   if your model does multi-class classification   (e.g. if it uses a `softmax` last-layer activation).* `(model.predict(x) > 0.5).astype(\"int32\")`,   if your model does binary classification   (e.g. if it uses a `sigmoid` last-layer activation).\n"
          ],
          "name": "stdout"
        }
      ]
    },
    {
      "cell_type": "code",
      "metadata": {
        "colab": {
          "base_uri": "https://localhost:8080/"
        },
        "id": "m5TSts0U0k85",
        "outputId": "83036ba4-68ff-44ab-d6e3-74ccf5d7673f"
      },
      "source": [
        "pred"
      ],
      "execution_count": null,
      "outputs": [
        {
          "output_type": "execute_result",
          "data": {
            "text/plain": [
              "array([4, 3, 3, 0, 2, 2, 3, 2, 4, 2, 1, 2, 0, 3, 1, 0, 3, 2, 3, 4, 0, 0,\n",
              "       4, 0, 3, 3, 2, 0, 3, 2, 0, 1, 0, 2, 0, 1, 2, 3, 4, 2, 2, 0, 0, 1,\n",
              "       2, 1, 2, 2, 0, 1, 1, 3, 3, 2, 2, 2])"
            ]
          },
          "metadata": {
            "tags": []
          },
          "execution_count": 20
        }
      ]
    },
    {
      "cell_type": "code",
      "metadata": {
        "colab": {
          "base_uri": "https://localhost:8080/"
        },
        "id": "XNMmh88N0p08",
        "outputId": "5a7770fc-2615-486c-ebae-b5eca5ef470c"
      },
      "source": [
        "for i in range(30):\n",
        "    print(' '.join(X_test[i]))\n",
        "    print('Predicted emoji : ' + emoji.emojize(emoji_dictionary[str(pred[i])]) + '\\n')"
      ],
      "execution_count": null,
      "outputs": [
        {
          "output_type": "stream",
          "text": [
            "I want to eat\n",
            "Predicted emoji : 🍴\n",
            "\n",
            "he did not answer\n",
            "Predicted emoji : 😓\n",
            "\n",
            "he got a raise\n",
            "Predicted emoji : 😓\n",
            "\n",
            "she got me a present\n",
            "Predicted emoji : ❤️\n",
            "\n",
            "ha ha ha it was so funny\n",
            "Predicted emoji : 😁\n",
            "\n",
            "he is a good friend\n",
            "Predicted emoji : 😁\n",
            "\n",
            "I am upset\n",
            "Predicted emoji : 😓\n",
            "\n",
            "We had such a lovely dinner tonight\n",
            "Predicted emoji : 😁\n",
            "\n",
            "where is the food\n",
            "Predicted emoji : 🍴\n",
            "\n",
            "Stop making this joke ha ha ha\n",
            "Predicted emoji : 😁\n",
            "\n",
            "where is the ball\n",
            "Predicted emoji : ⚾\n",
            "\n",
            "work is hard\n",
            "Predicted emoji : 😁\n",
            "\n",
            "This girl is messing with me\n",
            "Predicted emoji : ❤️\n",
            "\n",
            "are you serious ha ha\n",
            "Predicted emoji : 😓\n",
            "\n",
            "Let us go play baseball\n",
            "Predicted emoji : ⚾\n",
            "\n",
            "This stupid grader is not working\n",
            "Predicted emoji : ❤️\n",
            "\n",
            "work is horrible\n",
            "Predicted emoji : 😓\n",
            "\n",
            "Congratulation for having a baby\n",
            "Predicted emoji : 😁\n",
            "\n",
            "stop messing around\n",
            "Predicted emoji : 😓\n",
            "\n",
            "any suggestions for dinner\n",
            "Predicted emoji : 🍴\n",
            "\n",
            "I love taking breaks\n",
            "Predicted emoji : ❤️\n",
            "\n",
            "you brighten my day\n",
            "Predicted emoji : ❤️\n",
            "\n",
            "I boiled rice\n",
            "Predicted emoji : 🍴\n",
            "\n",
            "she is a bully\n",
            "Predicted emoji : ❤️\n",
            "\n",
            "Why are you feeling bad\n",
            "Predicted emoji : 😓\n",
            "\n",
            "I am upset\n",
            "Predicted emoji : 😓\n",
            "\n",
            "I worked during my birthday\n",
            "Predicted emoji : 😁\n",
            "\n",
            "My grandmother is the love of my life\n",
            "Predicted emoji : ❤️\n",
            "\n",
            "enjoy your break\n",
            "Predicted emoji : 😓\n",
            "\n",
            "valentine day is near\n",
            "Predicted emoji : 😁\n",
            "\n"
          ],
          "name": "stdout"
        }
      ]
    },
    {
      "cell_type": "code",
      "metadata": {
        "id": "XCjQyEkP0zQk"
      },
      "source": [
        "with open(\"model.json\", \"w\") as file:\n",
        "    file.write(model.to_json())\n",
        "model.save_weights(\"model.h5\")"
      ],
      "execution_count": null,
      "outputs": []
    },
    {
      "cell_type": "code",
      "metadata": {
        "id": "h26PeusrEgGU"
      },
      "source": [
        "from keras.models import model_from_json"
      ],
      "execution_count": null,
      "outputs": []
    },
    {
      "cell_type": "code",
      "metadata": {
        "id": "Kg15_2udE38r"
      },
      "source": [
        "with open(\"model.json\", \"r\") as file:\n",
        "    model = model_from_json(file.read())\n",
        "model.load_weights(\"model.h5\")"
      ],
      "execution_count": null,
      "outputs": []
    },
    {
      "cell_type": "code",
      "metadata": {
        "id": "pxUliFCbE9JX"
      },
      "source": [
        "test_str = \"Hello how are you\"\n",
        "X = pd.Series([test_str])"
      ],
      "execution_count": null,
      "outputs": []
    },
    {
      "cell_type": "code",
      "metadata": {
        "colab": {
          "base_uri": "https://localhost:8080/",
          "height": 171
        },
        "id": "JlQgZyUGFA8m",
        "outputId": "3fa30860-c750-403e-fec0-595eb213bcb6"
      },
      "source": [
        "emb_X = getOutputEmbeddings(X)"
      ],
      "execution_count": null,
      "outputs": [
        {
          "output_type": "error",
          "ename": "NameError",
          "evalue": "ignored",
          "traceback": [
            "\u001b[0;31m---------------------------------------------------------------------------\u001b[0m",
            "\u001b[0;31mNameError\u001b[0m                                 Traceback (most recent call last)",
            "\u001b[0;32m<ipython-input-27-433b918bb135>\u001b[0m in \u001b[0;36m<module>\u001b[0;34m()\u001b[0m\n\u001b[0;32m----> 1\u001b[0;31m \u001b[0memb_X\u001b[0m \u001b[0;34m=\u001b[0m \u001b[0mgetOutputEmbeddings\u001b[0m\u001b[0;34m(\u001b[0m\u001b[0mX\u001b[0m\u001b[0;34m)\u001b[0m\u001b[0;34m\u001b[0m\u001b[0;34m\u001b[0m\u001b[0m\n\u001b[0m",
            "\u001b[0;31mNameError\u001b[0m: name 'getOutputEmbeddings' is not defined"
          ]
        }
      ]
    },
    {
      "cell_type": "code",
      "metadata": {
        "id": "7rNwOezDFC6B"
      },
      "source": [
        ""
      ],
      "execution_count": null,
      "outputs": []
    }
  ]
}
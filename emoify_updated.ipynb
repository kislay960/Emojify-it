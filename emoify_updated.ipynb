{
  "nbformat": 4,
  "nbformat_minor": 0,
  "metadata": {
    "colab": {
      "name": "emoify updated.ipynb",
      "provenance": [],
      "mount_file_id": "1Mm2asqBns7nXWgWZmt2RqYPFqDaOQo27",
      "authorship_tag": "ABX9TyOPmdaSXvSFLbAtiEPoMLgL",
      "include_colab_link": true
    },
    "kernelspec": {
      "name": "python3",
      "display_name": "Python 3"
    }
  },
  "cells": [
    {
      "cell_type": "markdown",
      "metadata": {
        "id": "view-in-github",
        "colab_type": "text"
      },
      "source": [
        "<a href=\"https://colab.research.google.com/github/kislay960/Emojify-it/blob/main/emoify_updated.ipynb\" target=\"_parent\"><img src=\"https://colab.research.google.com/assets/colab-badge.svg\" alt=\"Open In Colab\"/></a>"
      ]
    },
    {
      "cell_type": "code",
      "metadata": {
        "colab": {
          "base_uri": "https://localhost:8080/"
        },
        "id": "Fzgtw2efGsPJ",
        "outputId": "dc2f6891-30fd-4d30-ad5d-f69353fa69cf"
      },
      "source": [
        "!pip install emoji"
      ],
      "execution_count": 1,
      "outputs": [
        {
          "output_type": "stream",
          "text": [
            "Collecting emoji\n",
            "\u001b[?25l  Downloading https://files.pythonhosted.org/packages/ff/1c/1f1457fe52d0b30cbeebfd578483cedb3e3619108d2d5a21380dfecf8ffd/emoji-0.6.0.tar.gz (51kB)\n",
            "\r\u001b[K     |██████▍                         | 10kB 17.5MB/s eta 0:00:01\r\u001b[K     |████████████▉                   | 20kB 22.4MB/s eta 0:00:01\r\u001b[K     |███████████████████▎            | 30kB 26.5MB/s eta 0:00:01\r\u001b[K     |█████████████████████████▊      | 40kB 22.0MB/s eta 0:00:01\r\u001b[K     |████████████████████████████████| 51kB 4.5MB/s \n",
            "\u001b[?25hBuilding wheels for collected packages: emoji\n",
            "  Building wheel for emoji (setup.py) ... \u001b[?25l\u001b[?25hdone\n",
            "  Created wheel for emoji: filename=emoji-0.6.0-cp36-none-any.whl size=49716 sha256=676750cce95a21dbd0f6dca3db2b54a5706ceecbb3df1001ff12a9f0834aa828\n",
            "  Stored in directory: /root/.cache/pip/wheels/46/2c/8b/9dcf5216ca68e14e0320e283692dce8ae321cdc01e73e17796\n",
            "Successfully built emoji\n",
            "Installing collected packages: emoji\n",
            "Successfully installed emoji-0.6.0\n"
          ],
          "name": "stdout"
        }
      ]
    },
    {
      "cell_type": "code",
      "metadata": {
        "id": "ZUEebZf_Gvbg"
      },
      "source": [
        "import numpy as np\n",
        "import pandas as pd"
      ],
      "execution_count": 2,
      "outputs": []
    },
    {
      "cell_type": "code",
      "metadata": {
        "id": "ODDdq-OaGz5M"
      },
      "source": [
        "train = pd.read_csv('https://raw.githubusercontent.com/kislay960/Data-Science-Practice/main/train_emoji.csv',header=None)\n",
        "test = pd.read_csv('https://raw.githubusercontent.com/kislay960/Data-Science-Practice/main/test_emoji.csv',header=None)"
      ],
      "execution_count": 3,
      "outputs": []
    },
    {
      "cell_type": "code",
      "metadata": {
        "id": "FrUoMPp5HABe"
      },
      "source": [
        "import emoji"
      ],
      "execution_count": 4,
      "outputs": []
    },
    {
      "cell_type": "code",
      "metadata": {
        "id": "j7jl0SwoHErd"
      },
      "source": [
        "emoji_dictionary = {\"0\": \"\\u2764\\uFE0F\",    # :heart: prints a black instead of red heart depending on the font\n",
        "                    \"1\": \":baseball:\",\n",
        "                    \"2\": \":beaming_face_with_smiling_eyes:\",\n",
        "                    \"3\": \":downcast_face_with_sweat:\",\n",
        "                    \"4\": \":fork_and_knife:\",\n",
        "                   }"
      ],
      "execution_count": 5,
      "outputs": []
    },
    {
      "cell_type": "code",
      "metadata": {
        "colab": {
          "base_uri": "https://localhost:8080/"
        },
        "id": "5WcDSvb1HHIa",
        "outputId": "a5c0aa57-8c5b-4ac1-a1ec-62de9a26d28d"
      },
      "source": [
        "for e in emoji_dictionary.values():\n",
        "    print(emoji.emojize(e))"
      ],
      "execution_count": 6,
      "outputs": [
        {
          "output_type": "stream",
          "text": [
            "❤️\n",
            "⚾\n",
            "😁\n",
            "😓\n",
            "🍴\n"
          ],
          "name": "stdout"
        }
      ]
    },
    {
      "cell_type": "code",
      "metadata": {
        "colab": {
          "base_uri": "https://localhost:8080/"
        },
        "id": "fa7QjctnHLAg",
        "outputId": "0c0e07b0-7533-4c51-84d7-97937914f6bc"
      },
      "source": [
        "data = train.values\n",
        "for i in range(10):\n",
        "    print(data[i][0],emoji.emojize(emoji_dictionary[str(data[i][1])]))"
      ],
      "execution_count": 7,
      "outputs": [
        {
          "output_type": "stream",
          "text": [
            "never talk to me again 😓\n",
            "I am proud of your achievements 😁\n",
            "It is the worst day in my life 😓\n",
            "Miss you so much ❤️\n",
            "food is life 🍴\n",
            "I love you mum ❤️\n",
            "Stop saying bullshit 😓\n",
            "congratulations on your acceptance 😁\n",
            "The assignment is too long  😓\n",
            "I want to go play ⚾\n"
          ],
          "name": "stdout"
        }
      ]
    },
    {
      "cell_type": "code",
      "metadata": {
        "id": "dO_UFXdNHOzk"
      },
      "source": [
        "from keras.utils import to_categorical"
      ],
      "execution_count": 8,
      "outputs": []
    },
    {
      "cell_type": "code",
      "metadata": {
        "colab": {
          "base_uri": "https://localhost:8080/"
        },
        "id": "yR6AA_VlHRpZ",
        "outputId": "96cae406-8404-4941-c2ec-e2321d6dfce1"
      },
      "source": [
        "XT = train[0]\n",
        "Xt = test[0]\n",
        "\n",
        "YT = to_categorical(train[1])\n",
        "Yt = to_categorical(test[1])\n",
        "\n",
        "print(XT.shape)\n",
        "print(Xt.shape)\n",
        "print(YT.shape)\n",
        "print(Yt.shape)"
      ],
      "execution_count": 9,
      "outputs": [
        {
          "output_type": "stream",
          "text": [
            "(132,)\n",
            "(56,)\n",
            "(132, 5)\n",
            "(56, 5)\n"
          ],
          "name": "stdout"
        }
      ]
    },
    {
      "cell_type": "code",
      "metadata": {
        "id": "z3FkKU_uHUKn"
      },
      "source": [
        "embeddings = {}\n",
        "with open('/content/drive/MyDrive/glove.6B.50d.txt',encoding='utf-8') as f:\n",
        "    for line in f:\n",
        "        values = line.split()\n",
        "        word = values[0]\n",
        "        coeffs = np.asarray(values[1:],dtype='float32')\n",
        "        \n",
        "        #print(word)\n",
        "        #print(coeffs)\n",
        "        embeddings[word] = coeffs"
      ],
      "execution_count": 11,
      "outputs": []
    },
    {
      "cell_type": "code",
      "metadata": {
        "id": "BN-Sa24RHXy0"
      },
      "source": [
        "def getOutputEmbeddings(X):\n",
        "    \n",
        "    embedding_matrix_output = np.zeros((X.shape[0],10,50))\n",
        "    for ix in range(X.shape[0]):\n",
        "        X[ix] = X[ix].split()\n",
        "        for jx in range(len(X[ix])):\n",
        "            embedding_matrix_output[ix][jx] = embeddings[X[ix][jx].lower()]\n",
        "            \n",
        "    return embedding_matrix_output"
      ],
      "execution_count": 12,
      "outputs": []
    },
    {
      "cell_type": "code",
      "metadata": {
        "colab": {
          "base_uri": "https://localhost:8080/"
        },
        "id": "D6RI-On4HoYh",
        "outputId": "5a72148c-c458-42f0-87b9-5796308a9db0"
      },
      "source": [
        "emb_XT = getOutputEmbeddings(XT)\n",
        "emb_Xt = getOutputEmbeddings(Xt)"
      ],
      "execution_count": 13,
      "outputs": [
        {
          "output_type": "stream",
          "text": [
            "/usr/local/lib/python3.6/dist-packages/ipykernel_launcher.py:5: SettingWithCopyWarning: \n",
            "A value is trying to be set on a copy of a slice from a DataFrame\n",
            "\n",
            "See the caveats in the documentation: https://pandas.pydata.org/pandas-docs/stable/user_guide/indexing.html#returning-a-view-versus-a-copy\n",
            "  \"\"\"\n"
          ],
          "name": "stderr"
        }
      ]
    },
    {
      "cell_type": "code",
      "metadata": {
        "colab": {
          "base_uri": "https://localhost:8080/"
        },
        "id": "NVeBU-9LHqp4",
        "outputId": "d65b9c87-c86a-4138-b627-50816d87ddb1"
      },
      "source": [
        "print(emb_XT.shape)\n",
        "print(emb_Xt.shape)"
      ],
      "execution_count": 14,
      "outputs": [
        {
          "output_type": "stream",
          "text": [
            "(132, 10, 50)\n",
            "(56, 10, 50)\n"
          ],
          "name": "stdout"
        }
      ]
    },
    {
      "cell_type": "code",
      "metadata": {
        "id": "0fcl6UdxHsy6"
      },
      "source": [
        "from keras.layers import LSTM, Dropout, Dense, Activation\n",
        "from keras.models import Sequential"
      ],
      "execution_count": 15,
      "outputs": []
    },
    {
      "cell_type": "code",
      "metadata": {
        "colab": {
          "base_uri": "https://localhost:8080/"
        },
        "id": "RObRDtAbHwnl",
        "outputId": "b5022155-562d-490e-80a5-e88b67796168"
      },
      "source": [
        "model = Sequential()\n",
        "model.add(LSTM(64,input_shape=(10,50),return_sequences=True))\n",
        "model.add(Dropout(0.4))\n",
        "model.add(LSTM(64,input_shape=(10,50)))\n",
        "model.add(Dropout(0.3))\n",
        "model.add(Dense(5))\n",
        "model.add(Activation('softmax'))\n",
        "model.summary()"
      ],
      "execution_count": 16,
      "outputs": [
        {
          "output_type": "stream",
          "text": [
            "Model: \"sequential\"\n",
            "_________________________________________________________________\n",
            "Layer (type)                 Output Shape              Param #   \n",
            "=================================================================\n",
            "lstm (LSTM)                  (None, 10, 64)            29440     \n",
            "_________________________________________________________________\n",
            "dropout (Dropout)            (None, 10, 64)            0         \n",
            "_________________________________________________________________\n",
            "lstm_1 (LSTM)                (None, 64)                33024     \n",
            "_________________________________________________________________\n",
            "dropout_1 (Dropout)          (None, 64)                0         \n",
            "_________________________________________________________________\n",
            "dense (Dense)                (None, 5)                 325       \n",
            "_________________________________________________________________\n",
            "activation (Activation)      (None, 5)                 0         \n",
            "=================================================================\n",
            "Total params: 62,789\n",
            "Trainable params: 62,789\n",
            "Non-trainable params: 0\n",
            "_________________________________________________________________\n"
          ],
          "name": "stdout"
        }
      ]
    },
    {
      "cell_type": "code",
      "metadata": {
        "colab": {
          "base_uri": "https://localhost:8080/"
        },
        "id": "Mpadm22SHy3t",
        "outputId": "b9cc150c-ebbb-4954-e440-78a088441d73"
      },
      "source": [
        "model.compile(optimizer='adam',loss='categorical_crossentropy',metrics=['acc'])\n",
        "model.fit(emb_XT,YT,batch_size=32,epochs=40,shuffle=True,validation_split=0.1)"
      ],
      "execution_count": 17,
      "outputs": [
        {
          "output_type": "stream",
          "text": [
            "Epoch 1/40\n",
            "4/4 [==============================] - 1s 203ms/step - loss: 1.5503 - acc: 0.4068 - val_loss: 1.6354 - val_acc: 0.3571\n",
            "Epoch 2/40\n",
            "4/4 [==============================] - 0s 14ms/step - loss: 1.5251 - acc: 0.3220 - val_loss: 1.6968 - val_acc: 0.0714\n",
            "Epoch 3/40\n",
            "4/4 [==============================] - 0s 15ms/step - loss: 1.4741 - acc: 0.3644 - val_loss: 1.6685 - val_acc: 0.3571\n",
            "Epoch 4/40\n",
            "4/4 [==============================] - 0s 15ms/step - loss: 1.4542 - acc: 0.4153 - val_loss: 1.6348 - val_acc: 0.3571\n",
            "Epoch 5/40\n",
            "4/4 [==============================] - 0s 14ms/step - loss: 1.3843 - acc: 0.4576 - val_loss: 1.5624 - val_acc: 0.2857\n",
            "Epoch 6/40\n",
            "4/4 [==============================] - 0s 13ms/step - loss: 1.3343 - acc: 0.5254 - val_loss: 1.4982 - val_acc: 0.2857\n",
            "Epoch 7/40\n",
            "4/4 [==============================] - 0s 14ms/step - loss: 1.2624 - acc: 0.5339 - val_loss: 1.4309 - val_acc: 0.4286\n",
            "Epoch 8/40\n",
            "4/4 [==============================] - 0s 14ms/step - loss: 1.1752 - acc: 0.6186 - val_loss: 1.2834 - val_acc: 0.5714\n",
            "Epoch 9/40\n",
            "4/4 [==============================] - 0s 13ms/step - loss: 1.0509 - acc: 0.6441 - val_loss: 1.2860 - val_acc: 0.5000\n",
            "Epoch 10/40\n",
            "4/4 [==============================] - 0s 16ms/step - loss: 0.9403 - acc: 0.6695 - val_loss: 1.1831 - val_acc: 0.5714\n",
            "Epoch 11/40\n",
            "4/4 [==============================] - 0s 13ms/step - loss: 0.8461 - acc: 0.7034 - val_loss: 1.1613 - val_acc: 0.5714\n",
            "Epoch 12/40\n",
            "4/4 [==============================] - 0s 15ms/step - loss: 0.7649 - acc: 0.7458 - val_loss: 1.2486 - val_acc: 0.5714\n",
            "Epoch 13/40\n",
            "4/4 [==============================] - 0s 13ms/step - loss: 0.6428 - acc: 0.8136 - val_loss: 0.9550 - val_acc: 0.7143\n",
            "Epoch 14/40\n",
            "4/4 [==============================] - 0s 15ms/step - loss: 0.6147 - acc: 0.7881 - val_loss: 1.2803 - val_acc: 0.5714\n",
            "Epoch 15/40\n",
            "4/4 [==============================] - 0s 14ms/step - loss: 0.5231 - acc: 0.8220 - val_loss: 0.9234 - val_acc: 0.6429\n",
            "Epoch 16/40\n",
            "4/4 [==============================] - 0s 15ms/step - loss: 0.5330 - acc: 0.7966 - val_loss: 0.8903 - val_acc: 0.6429\n",
            "Epoch 17/40\n",
            "4/4 [==============================] - 0s 13ms/step - loss: 0.3883 - acc: 0.8729 - val_loss: 1.1244 - val_acc: 0.6429\n",
            "Epoch 18/40\n",
            "4/4 [==============================] - 0s 13ms/step - loss: 0.3261 - acc: 0.9237 - val_loss: 0.7044 - val_acc: 0.7857\n",
            "Epoch 19/40\n",
            "4/4 [==============================] - 0s 14ms/step - loss: 0.3043 - acc: 0.9068 - val_loss: 0.7007 - val_acc: 0.7143\n",
            "Epoch 20/40\n",
            "4/4 [==============================] - 0s 14ms/step - loss: 0.2719 - acc: 0.9322 - val_loss: 1.0454 - val_acc: 0.6429\n",
            "Epoch 21/40\n",
            "4/4 [==============================] - 0s 14ms/step - loss: 0.3081 - acc: 0.9068 - val_loss: 0.8210 - val_acc: 0.7143\n",
            "Epoch 22/40\n",
            "4/4 [==============================] - 0s 14ms/step - loss: 0.2577 - acc: 0.9237 - val_loss: 0.8570 - val_acc: 0.6429\n",
            "Epoch 23/40\n",
            "4/4 [==============================] - 0s 14ms/step - loss: 0.2871 - acc: 0.8814 - val_loss: 1.2653 - val_acc: 0.6429\n",
            "Epoch 24/40\n",
            "4/4 [==============================] - 0s 14ms/step - loss: 0.1700 - acc: 0.9492 - val_loss: 0.6278 - val_acc: 0.7143\n",
            "Epoch 25/40\n",
            "4/4 [==============================] - 0s 16ms/step - loss: 0.2512 - acc: 0.9068 - val_loss: 0.7255 - val_acc: 0.6429\n",
            "Epoch 26/40\n",
            "4/4 [==============================] - 0s 15ms/step - loss: 0.1685 - acc: 0.9492 - val_loss: 0.7902 - val_acc: 0.6429\n",
            "Epoch 27/40\n",
            "4/4 [==============================] - 0s 16ms/step - loss: 0.1484 - acc: 0.9661 - val_loss: 0.7755 - val_acc: 0.5714\n",
            "Epoch 28/40\n",
            "4/4 [==============================] - 0s 13ms/step - loss: 0.1878 - acc: 0.9407 - val_loss: 0.7070 - val_acc: 0.7143\n",
            "Epoch 29/40\n",
            "4/4 [==============================] - 0s 14ms/step - loss: 0.1120 - acc: 0.9746 - val_loss: 1.0564 - val_acc: 0.6429\n",
            "Epoch 30/40\n",
            "4/4 [==============================] - 0s 14ms/step - loss: 0.1364 - acc: 0.9661 - val_loss: 0.9672 - val_acc: 0.6429\n",
            "Epoch 31/40\n",
            "4/4 [==============================] - 0s 14ms/step - loss: 0.0992 - acc: 0.9746 - val_loss: 0.7597 - val_acc: 0.7143\n",
            "Epoch 32/40\n",
            "4/4 [==============================] - 0s 14ms/step - loss: 0.1090 - acc: 0.9661 - val_loss: 0.9505 - val_acc: 0.6429\n",
            "Epoch 33/40\n",
            "4/4 [==============================] - 0s 13ms/step - loss: 0.1135 - acc: 0.9576 - val_loss: 1.1230 - val_acc: 0.6429\n",
            "Epoch 34/40\n",
            "4/4 [==============================] - 0s 14ms/step - loss: 0.1039 - acc: 0.9746 - val_loss: 0.8343 - val_acc: 0.7143\n",
            "Epoch 35/40\n",
            "4/4 [==============================] - 0s 13ms/step - loss: 0.1460 - acc: 0.9492 - val_loss: 0.8865 - val_acc: 0.6429\n",
            "Epoch 36/40\n",
            "4/4 [==============================] - 0s 13ms/step - loss: 0.1750 - acc: 0.9407 - val_loss: 0.9862 - val_acc: 0.5714\n",
            "Epoch 37/40\n",
            "4/4 [==============================] - 0s 13ms/step - loss: 0.1008 - acc: 0.9915 - val_loss: 0.6257 - val_acc: 0.7857\n",
            "Epoch 38/40\n",
            "4/4 [==============================] - 0s 14ms/step - loss: 0.2355 - acc: 0.9322 - val_loss: 0.5053 - val_acc: 0.7857\n",
            "Epoch 39/40\n",
            "4/4 [==============================] - 0s 15ms/step - loss: 0.0997 - acc: 0.9746 - val_loss: 1.4219 - val_acc: 0.5714\n",
            "Epoch 40/40\n",
            "4/4 [==============================] - 0s 14ms/step - loss: 0.1388 - acc: 0.9661 - val_loss: 0.8372 - val_acc: 0.7857\n"
          ],
          "name": "stdout"
        },
        {
          "output_type": "execute_result",
          "data": {
            "text/plain": [
              "<tensorflow.python.keras.callbacks.History at 0x7fd1dfe846a0>"
            ]
          },
          "metadata": {
            "tags": []
          },
          "execution_count": 17
        }
      ]
    },
    {
      "cell_type": "code",
      "metadata": {
        "colab": {
          "base_uri": "https://localhost:8080/"
        },
        "id": "Z7BXqHn6H2Ba",
        "outputId": "a38cef81-4499-41e0-e6e3-11937d0d2f42"
      },
      "source": [
        "model.evaluate(emb_Xt,Yt)"
      ],
      "execution_count": 18,
      "outputs": [
        {
          "output_type": "stream",
          "text": [
            "2/2 [==============================] - 0s 4ms/step - loss: 1.4902 - acc: 0.6071\n"
          ],
          "name": "stdout"
        },
        {
          "output_type": "execute_result",
          "data": {
            "text/plain": [
              "[1.4901554584503174, 0.6071428656578064]"
            ]
          },
          "metadata": {
            "tags": []
          },
          "execution_count": 18
        }
      ]
    },
    {
      "cell_type": "code",
      "metadata": {
        "colab": {
          "base_uri": "https://localhost:8080/"
        },
        "id": "eX2k7WsAH71Q",
        "outputId": "3ee6dd03-2edf-4489-858a-39593214cfef"
      },
      "source": [
        "pred = model.predict_classes(emb_Xt)"
      ],
      "execution_count": 19,
      "outputs": [
        {
          "output_type": "stream",
          "text": [
            "WARNING:tensorflow:From <ipython-input-19-5e5057e7dfa1>:1: Sequential.predict_classes (from tensorflow.python.keras.engine.sequential) is deprecated and will be removed after 2021-01-01.\n",
            "Instructions for updating:\n",
            "Please use instead:* `np.argmax(model.predict(x), axis=-1)`,   if your model does multi-class classification   (e.g. if it uses a `softmax` last-layer activation).* `(model.predict(x) > 0.5).astype(\"int32\")`,   if your model does binary classification   (e.g. if it uses a `sigmoid` last-layer activation).\n"
          ],
          "name": "stdout"
        }
      ]
    },
    {
      "cell_type": "code",
      "metadata": {
        "colab": {
          "base_uri": "https://localhost:8080/"
        },
        "id": "FfGuo3OXH-I1",
        "outputId": "c3c92ddc-5172-455d-f383-b880d5d329a8"
      },
      "source": [
        "for i in range(30):\n",
        "    print(' '.join(Xt[i]))\n",
        "    print(emoji.emojize(emoji_dictionary[str(np.argmax(Yt[i]))]))\n",
        "    print(emoji.emojize(emoji_dictionary[str(pred[i])]))"
      ],
      "execution_count": 20,
      "outputs": [
        {
          "output_type": "stream",
          "text": [
            "I want to eat\n",
            "🍴\n",
            "🍴\n",
            "he did not answer\n",
            "😓\n",
            "😓\n",
            "he got a raise\n",
            "😁\n",
            "😓\n",
            "she got me a present\n",
            "❤️\n",
            "😓\n",
            "ha ha ha it was so funny\n",
            "😁\n",
            "😁\n",
            "he is a good friend\n",
            "❤️\n",
            "❤️\n",
            "I am upset\n",
            "❤️\n",
            "😓\n",
            "We had such a lovely dinner tonight\n",
            "❤️\n",
            "😁\n",
            "where is the food\n",
            "🍴\n",
            "🍴\n",
            "Stop making this joke ha ha ha\n",
            "😁\n",
            "😓\n",
            "where is the ball\n",
            "⚾\n",
            "⚾\n",
            "work is hard\n",
            "😓\n",
            "😁\n",
            "This girl is messing with me\n",
            "😓\n",
            "❤️\n",
            "are you serious ha ha\n",
            "😁\n",
            "😓\n",
            "Let us go play baseball\n",
            "⚾\n",
            "⚾\n",
            "This stupid grader is not working\n",
            "😓\n",
            "😓\n",
            "work is horrible\n",
            "😓\n",
            "😓\n",
            "Congratulation for having a baby\n",
            "😁\n",
            "😁\n",
            "stop messing around\n",
            "😓\n",
            "😓\n",
            "any suggestions for dinner\n",
            "🍴\n",
            "🍴\n",
            "I love taking breaks\n",
            "❤️\n",
            "❤️\n",
            "you brighten my day\n",
            "😁\n",
            "❤️\n",
            "I boiled rice\n",
            "🍴\n",
            "🍴\n",
            "she is a bully\n",
            "😓\n",
            "❤️\n",
            "Why are you feeling bad\n",
            "😓\n",
            "😓\n",
            "I am upset\n",
            "😓\n",
            "😓\n",
            "I worked during my birthday\n",
            "😓\n",
            "😁\n",
            "My grandmother is the love of my life\n",
            "❤️\n",
            "❤️\n",
            "enjoy your break\n",
            "😁\n",
            "⚾\n",
            "valentine day is near\n",
            "❤️\n",
            "😁\n"
          ],
          "name": "stdout"
        }
      ]
    },
    {
      "cell_type": "code",
      "metadata": {
        "id": "xRFbqAq0IBVh"
      },
      "source": [
        "with open(\"model.json\", \"w\") as file:\n",
        "    file.write(model.to_json())\n",
        "model.save_weights(\"model.h5\")"
      ],
      "execution_count": 21,
      "outputs": []
    },
    {
      "cell_type": "markdown",
      "metadata": {
        "id": "dK5zgvJXI8aS"
      },
      "source": [
        "##Code to be used in django"
      ]
    },
    {
      "cell_type": "code",
      "metadata": {
        "id": "l0MXLzhgIGho"
      },
      "source": [
        "from keras.models import model_from_json"
      ],
      "execution_count": 22,
      "outputs": []
    },
    {
      "cell_type": "code",
      "metadata": {
        "id": "nPb6uZIcIISA"
      },
      "source": [
        "with open(\"model.json\", \"r\") as file:\n",
        "    model = model_from_json(file.read())\n",
        "model.load_weights(\"model.h5\")"
      ],
      "execution_count": 23,
      "outputs": []
    },
    {
      "cell_type": "code",
      "metadata": {
        "colab": {
          "base_uri": "https://localhost:8080/"
        },
        "id": "TCoypkuOIKgr",
        "outputId": "9b4bf6f2-dce8-4bbe-eda8-49e7bafbbba9"
      },
      "source": [
        "test_str = \"Hello how are you\"\n",
        "X = pd.Series([test_str])\n",
        "\n",
        "emb_X = getOutputEmbeddings(X)\n",
        "\n",
        "p = model.predict_classes(emb_X)\n",
        "\n",
        "print(' '.join(X[0]))\n",
        "print(emoji.emojize(emoji_dictionary[str(p[0])]))"
      ],
      "execution_count": 24,
      "outputs": [
        {
          "output_type": "stream",
          "text": [
            "Hello how are you\n",
            "❤️\n"
          ],
          "name": "stdout"
        }
      ]
    },
    {
      "cell_type": "code",
      "metadata": {
        "id": "Zkw_9jTvIToL"
      },
      "source": [
        ""
      ],
      "execution_count": null,
      "outputs": []
    }
  ]
}